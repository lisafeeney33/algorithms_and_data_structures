{
 "cells": [
  {
   "cell_type": "markdown",
   "metadata": {},
   "source": [
    "# Practice Interview\n",
    "\n",
    "## Objective\n",
    "\n",
    "_*The partner assignment aims to provide participants with the opportunity to practice coding in an interview context. You will analyze your partner's Assignment 1. Moreover, code reviews are common practice in a software development team. This assignment should give you a taste of the code review process.*_\n",
    "\n",
    "## Group Size\n",
    "\n",
    "Each group should have 2 people. You will be assigned a partner\n",
    "\n",
    "## Part 1:\n",
    "\n",
    "You and your partner must share each other's Assignment 1 submission."
   ]
  },
  {
   "cell_type": "markdown",
   "metadata": {},
   "source": [
    "\n",
    "## Part 2:\n",
    "\n",
    "Create a Jupyter Notebook, create 6 of the following headings, and complete the following for your partner's assignment 1:\n",
    "\n",
    "-   Paraphrase the problem in your own words.\n"
   ]
  },
  {
   "cell_type": "code",
   "execution_count": null,
   "metadata": {},
   "outputs": [],
   "source": [
    "# Partner's response:\n",
    "# Based on this code, this function is meant to find a missing number (integer) in a list of numbers. \n",
    "# The input nums is a list of integers and because the function returns a single integer, \n",
    "# it is likely that this is meant to find the missing number\n",
    "\n",
    "# My response:\n",
    "# The problem is that we are given a list of integers that are in the range [0, n]. \n",
    "# We need to identify and return a list of all the numbers that are missing. \n",
    "# If no numbers are missing, return -1. "
   ]
  },
  {
   "cell_type": "markdown",
   "metadata": {},
   "source": [
    "\n",
    "-   Create 1 new example that demonstrates you understand the problem. Trace/walkthrough 1 example that your partner made and explain it.\n"
   ]
  },
  {
   "cell_type": "code",
   "execution_count": null,
   "metadata": {},
   "outputs": [],
   "source": [
    "# My example:\n",
    "# Input: [6,4,2,5,3] Output: 1\n",
    "\n",
    "# Partner's example:\n",
    "Ex: Input: nums = [7, 8, 9, 2, 3, 1, 5, 6] Output: 4\n",
    "\n",
    "# Walking through and explaining my partner's example:\n",
    "# The list of integers ranges from 1-9\n",
    "# Upon review, there is a missing interger in the range which is identified as 4\n",
    "# As such, 4 is returned as the output"
   ]
  },
  {
   "cell_type": "markdown",
   "metadata": {},
   "source": [
    "\n",
    "-   Copy the solution your partner wrote. \n"
   ]
  },
  {
   "cell_type": "code",
   "execution_count": 1,
   "metadata": {},
   "outputs": [],
   "source": [
    "# Partner's response:\n",
    "def missing_num(lst):\n",
    "    n = max(lst)\n",
    "    full_set = set(range(n + 1))\n",
    "    lst_set = set(lst)\n",
    "    missing_nums = sorted(list(full_set - lst_set))\n",
    "    if not missing_nums:\n",
    "        return -1\n",
    "    return missing_nums"
   ]
  },
  {
   "cell_type": "markdown",
   "metadata": {},
   "source": [
    "\n",
    "-   Explain why their solution works in your own words.\n"
   ]
  },
  {
   "cell_type": "code",
   "execution_count": null,
   "metadata": {},
   "outputs": [],
   "source": [
    "# The upper bound of the range [0,n] is determined by finding the maximum value in the list\n",
    "# The range (n + 1) generates all integers from 0 to n\n",
    "# Converting the input list into a set removes duplicates and enables set operations\n",
    "# To find the missing intergers:\n",
    "#   The difference (full_set minus lst_set) identifies all numbers in the range that are not present in lst\n",
    "#   The result is converted to a list and sorted in ascending order\n",
    "# If the difference is empty, it means all numbers in [0,n] are present in lst and we return -1 (no missing number)\n",
    "# If there are missing numbers, the sorted list of those numbers is returned."
   ]
  },
  {
   "cell_type": "markdown",
   "metadata": {},
   "source": [
    "\n",
    "-   Explain the problem’s time and space complexity in your own words.\n"
   ]
  },
  {
   "cell_type": "markdown",
   "metadata": {},
   "source": [
    "# Time Complexity:\n",
    "#   Finding Maximum Value: The max() function iterates through the list lst to find the maximum value\n",
    "#       Time Complexity: O(n), where n is the length of the list\n",
    "#   Create Full Range: The range(n + 1) generates n+1 integers, and set() converts them into a set\n",
    "#       Time Complexity: O(n), where n is the maximum value in lst\n",
    "#   Set Difference: Iterate over smaller set and checking if it is in larger set\n",
    "#       Time Complexity: O(n), where n is the size of full_set\n",
    "#    Sorting Missing Numbers: Sorting the missing numbers (if any) in ascending order\n",
    "#       Time Complexity: O(klogk) where k is the number of missing numbers\n",
    "#  Total time complexity is: O(n+klogk)\n",
    "\n",
    "\n",
    "# Space Complexity:\n",
    "#   Creating the Full Range: The full_set requires storage for n+1 elements\n",
    "#       Space Complexity: O(n)\n",
    "#   Creating the List Set: The lst_set requires storage for all unique elements in lst\n",
    "#       Space Complexity: O(m), where m is the number of unique elements in lst\n",
    "#   Set Difference and Sorting: Generates a temporary set, which may hold up to n+1−m elements (the missing numbers)\n",
    "#       Space Complexity: O(k), where k is the number of missing numbers\n",
    "#   Sorting: The sorted() function creates a sorted list of size k, adding O(k) space\n",
    "# Since 𝑚≤n and 𝑘≤𝑛, Total space complexity is: O(n)\n"
   ]
  },
  {
   "cell_type": "markdown",
   "metadata": {},
   "source": [
    "\n",
    "-   Critique your partner's solution, including explanation, and if there is anything that should be adjusted.\n"
   ]
  },
  {
   "cell_type": "code",
   "execution_count": null,
   "metadata": {},
   "outputs": [],
   "source": [
    "# Partner's response:\n",
    "# The solution works using a set-based algorithm in which 2 sets are used to find the missing numbers in a list: \n",
    "#   i. A full_set contains all the numbers in the range from 0 to the maximum value in the list and \n",
    "#   ii. The lst_set that contains the numbers in the input list. \n",
    "# The missing numbers are found by taking the difference between the full set and the list set. \n",
    "# The set of numbers are then converted to a list and sorted. \n",
    "\n",
    "# Critiique of partner's solution:\n",
    "# The solution works and the explanation is clear/ concise\n",
    "# The only element missing is to explain the output that would be returned:\n",
    "#   If the difference is empty, it means all numbers in [0,n] are present in lst and we return -1 (no missing number)\n",
    "#   If there are missing numbers, the sorted list of those numbers is returned."
   ]
  },
  {
   "cell_type": "markdown",
   "metadata": {},
   "source": [
    "\n",
    "## Part 3:\n",
    "\n",
    "Please write a 200 word reflection documenting your process from assignment 1, and your presentation and review experience with your partner at the bottom of the Jupyter Notebook under a new heading \"Reflection.\" Again, export this Notebook as pdf.\n"
   ]
  },
  {
   "cell_type": "markdown",
   "metadata": {},
   "source": [
    "### Reflection"
   ]
  },
  {
   "cell_type": "code",
   "execution_count": null,
   "metadata": {},
   "outputs": [],
   "source": [
    "# Reflections on my process for Assignment_1:\n",
    "# Expressing the problem in my own words was more challenging than I anticipated. \n",
    "# The difficulty lay in striking a balance between providing a clear and concise outline of the problem, \n",
    "# while also including enough detail to capture its inherent complexity (particularly the requirement to return \n",
    "# the duplicate with the shortest distance to the root in cases of multiple duplicates). \n",
    "# Using the provided examples significantly clarified the problem and developing my own example further \n",
    "# deepened my understanding. Finally, explaining why the solution works required a comprehensive grasp of \n",
    "# the problem, ensuring that all facets were addressed and that the solution met all requirements.\n",
    "\n",
    "\n",
    "# Reflections on the review process with my partner:\n",
    "# It was a fantastic learning experience to see how my partner approached explaining the problem, the solution \n",
    "# he provided, and the reasoning behind why it worked. I really appreciated how clear and concise his explanation \n",
    "# was in outlining the problem and its key aspects. My only suggestion would be to include a more detailed \n",
    "# explanation of the specific output the function would return, as that could further enhance the clarity \n",
    "# for the audience."
   ]
  },
  {
   "cell_type": "markdown",
   "metadata": {},
   "source": [
    "\n",
    "## Evaluation Criteria\n",
    "\n",
    "We are looking for the similar points as Assignment 1\n",
    "\n",
    "-   Problem is accurately stated\n",
    "\n",
    "-   New example is correct and easily understandable\n",
    "\n",
    "-   Correctness, time, and space complexity of the coding solution\n",
    "\n",
    "-   Clarity in explaining why the solution works, its time and space complexity\n",
    "\n",
    "-   Quality of critique of your partner's assignment, if necessary\n"
   ]
  },
  {
   "cell_type": "markdown",
   "metadata": {},
   "source": [
    "## Submission Information\n",
    "\n",
    "🚨 **Please review our [Assignment Submission Guide](https://github.com/UofT-DSI/onboarding/blob/main/onboarding_documents/submissions.md)** 🚨 for detailed instructions on how to format, branch, and submit your work. Following these guidelines is crucial for your submissions to be evaluated correctly.\n",
    "\n",
    "### Submission Parameters:\n",
    "* Submission Due Date: `HH:MM AM/PM - DD/MM/YYYY`\n",
    "* The branch name for your repo should be: `assignment-2`\n",
    "* What to submit for this assignment:\n",
    "    * This Jupyter Notebook (assignment_2.ipynb) should be populated and should be the only change in your pull request.\n",
    "* What the pull request link should look like for this assignment: `https://github.com/<your_github_username>/algorithms_and_data_structures/pull/<pr_id>`\n",
    "    * Open a private window in your browser. Copy and paste the link to your pull request into the address bar. Make sure you can see your pull request properly. This helps the technical facilitator and learning support staff review your submission easily.\n",
    "\n",
    "Checklist:\n",
    "- [ ] Created a branch with the correct naming convention.\n",
    "- [ ] Ensured that the repository is public.\n",
    "- [ ] Reviewed the PR description guidelines and adhered to them.\n",
    "- [ ] Verify that the link is accessible in a private browser window.\n",
    "\n",
    "If you encounter any difficulties or have questions, please don't hesitate to reach out to our team via our Slack at `#cohort-3-help`. Our Technical Facilitators and Learning Support staff are here to help you navigate any challenges.\n"
   ]
  }
 ],
 "metadata": {
  "kernelspec": {
   "display_name": "dsi_participant",
   "language": "python",
   "name": "python3"
  },
  "language_info": {
   "codemirror_mode": {
    "name": "ipython",
    "version": 3
   },
   "file_extension": ".py",
   "mimetype": "text/x-python",
   "name": "python",
   "nbconvert_exporter": "python",
   "pygments_lexer": "ipython3",
   "version": "3.9.15"
  }
 },
 "nbformat": 4,
 "nbformat_minor": 2
}
